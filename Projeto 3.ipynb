{
 "cells": [
  {
   "cell_type": "markdown",
   "metadata": {},
   "source": [
    "# Projeto 3 de Ciência dos Dados\n",
    "\n",
    "#### Introdução\n",
    "\n",
    "Esse projeto tem como objetivo final um sistema com a capacidade de prever, com eficiência, se um projeto de lei seria aprovado na Câmara dos Deputados ou não.\n",
    "Para isso, o projeto foi dividido em duas etapas: Análise e previsão.\n",
    "\n",
    "## Primeira parte: Análise\n",
    "\n",
    "Em primeira instância, os dados foram lidos e, no index de cada, foi colocado o ID de cada projeto de lei:"
   ]
  },
  {
   "cell_type": "code",
   "execution_count": 2,
   "metadata": {
    "scrolled": true
   },
   "outputs": [
    {
     "name": "stdout",
     "output_type": "stream",
     "text": [
      "Aguarde, o programa está em 5%\n",
      "Aguarde, o programa está em 10%\n",
      "Aguarde, o programa está em 15%\n",
      "Aguarde, o programa está em 21%\n",
      "Aguarde, o programa está em 26%\n",
      "Aguarde, o programa está em 31%\n",
      "Aguarde, o programa está em 36%\n",
      "Aguarde, o programa está em 42%\n",
      "Aguarde, o programa está em 47%\n",
      "Aguarde, o programa está em 52%\n",
      "Aguarde, o programa está em 57%\n",
      "Aguarde, o programa está em 63%\n",
      "Aguarde, o programa está em 68%\n",
      "Aguarde, o programa está em 73%\n",
      "Aguarde, o programa está em 78%\n",
      "Aguarde, o programa está em 84%\n",
      "Aguarde, o programa está em 89%\n",
      "Aguarde, o programa está em 94%\n",
      "Aguarde, o programa está em 100%\n"
     ]
    }
   ],
   "source": [
    "# Importações\n",
    "\n",
    "import pandas as pd\n",
    "\n",
    "\n",
    "# Cria um dicionário incluindo o ano como chave e o valor sendo um dataframe da fusão dos dataframes de proposições e autores\n",
    "\n",
    "dici={}\n",
    "\n",
    "for y in range(2000,2019):\n",
    "    \n",
    "    year=str(y)\n",
    "    string_p=\"proposicoes-\"+year+\".xlsx\"\n",
    "    string_a=\"proposicoesAutores-\"+year+\".xlsx\"\n",
    "\n",
    "    data_p=pd.read_excel(string_p)\n",
    "    data_a=pd.read_excel(string_a)\n",
    "    \n",
    "    data_p.set_index(\"id\") \n",
    "    data_a.set_index(\"idProposicao\")\n",
    "    \n",
    "    data= data_p.join(data_a, how='inner')\n",
    "    dici[y]=data\n",
    "    \n",
    "    print(\"Aguarde, o programa está em {0}%\".format(int((y-1999)/19*100)))\n"
   ]
  },
  {
   "cell_type": "markdown",
   "metadata": {},
   "source": [
    "Esse foi o resultado:"
   ]
  },
  {
   "cell_type": "code",
   "execution_count": 215,
   "metadata": {
    "scrolled": true
   },
   "outputs": [
    {
     "data": {
      "text/html": [
       "<div>\n",
       "<style scoped>\n",
       "    .dataframe tbody tr th:only-of-type {\n",
       "        vertical-align: middle;\n",
       "    }\n",
       "\n",
       "    .dataframe tbody tr th {\n",
       "        vertical-align: top;\n",
       "    }\n",
       "\n",
       "    .dataframe thead th {\n",
       "        text-align: right;\n",
       "    }\n",
       "</style>\n",
       "<table border=\"1\" class=\"dataframe\">\n",
       "  <thead>\n",
       "    <tr style=\"text-align: right;\">\n",
       "      <th></th>\n",
       "      <th>id</th>\n",
       "      <th>uri</th>\n",
       "      <th>siglaTipo</th>\n",
       "      <th>numero</th>\n",
       "      <th>ano</th>\n",
       "      <th>idTipo</th>\n",
       "      <th>descricaoTipo</th>\n",
       "      <th>ementa</th>\n",
       "      <th>ementaDetalhada</th>\n",
       "      <th>keywords</th>\n",
       "      <th>...</th>\n",
       "      <th>idProposicao</th>\n",
       "      <th>uriProposicao</th>\n",
       "      <th>idAutor</th>\n",
       "      <th>uriAutor</th>\n",
       "      <th>codTipoAutor</th>\n",
       "      <th>tipoAutor</th>\n",
       "      <th>nomeAutor</th>\n",
       "      <th>siglaPartidoAutor</th>\n",
       "      <th>uriPartidoAutor</th>\n",
       "      <th>siglaUFAutor</th>\n",
       "    </tr>\n",
       "  </thead>\n",
       "  <tbody>\n",
       "    <tr>\n",
       "      <th>0</th>\n",
       "      <td>2167556</td>\n",
       "      <td>https://dadosabertos.camara.leg.br/api/v2/prop...</td>\n",
       "      <td>MPV</td>\n",
       "      <td>817</td>\n",
       "      <td>2018</td>\n",
       "      <td>291</td>\n",
       "      <td>Medida Provisória</td>\n",
       "      <td>Disciplina o disposto nas Emendas Constitucion...</td>\n",
       "      <td>Revoga dispositivos da Lei nº 12.249, de 2010....</td>\n",
       "      <td>Regulamentação, Emenda constitucional, transpo...</td>\n",
       "      <td>...</td>\n",
       "      <td>2185235</td>\n",
       "      <td>https://dadosabertos.camara.leg.br/api/v2/prop...</td>\n",
       "      <td>74283.0</td>\n",
       "      <td>https://dadosabertos.camara.leg.br/api/v2/depu...</td>\n",
       "      <td>10000</td>\n",
       "      <td>Deputado</td>\n",
       "      <td>Vicentinho</td>\n",
       "      <td>PT</td>\n",
       "      <td>https://dadosabertos.camara.leg.br/api/v2/part...</td>\n",
       "      <td>SP</td>\n",
       "    </tr>\n",
       "    <tr>\n",
       "      <th>1</th>\n",
       "      <td>2167557</td>\n",
       "      <td>https://dadosabertos.camara.leg.br/api/v2/prop...</td>\n",
       "      <td>MSC</td>\n",
       "      <td>5</td>\n",
       "      <td>2018</td>\n",
       "      <td>412</td>\n",
       "      <td>Mensagem de Restituição de Autógrafos</td>\n",
       "      <td>Comunica o Excelentíssimo Senhor Presidente da...</td>\n",
       "      <td>NaN</td>\n",
       "      <td>NaN</td>\n",
       "      <td>...</td>\n",
       "      <td>2185229</td>\n",
       "      <td>https://dadosabertos.camara.leg.br/api/v2/prop...</td>\n",
       "      <td>160632.0</td>\n",
       "      <td>https://dadosabertos.camara.leg.br/api/v2/depu...</td>\n",
       "      <td>10000</td>\n",
       "      <td>Deputado</td>\n",
       "      <td>Zé Silva</td>\n",
       "      <td>SD</td>\n",
       "      <td>https://dadosabertos.camara.leg.br/api/v2/part...</td>\n",
       "      <td>MG</td>\n",
       "    </tr>\n",
       "    <tr>\n",
       "      <th>2</th>\n",
       "      <td>2167558</td>\n",
       "      <td>https://dadosabertos.camara.leg.br/api/v2/prop...</td>\n",
       "      <td>RIC</td>\n",
       "      <td>3355</td>\n",
       "      <td>2018</td>\n",
       "      <td>148</td>\n",
       "      <td>Requerimento de Informação</td>\n",
       "      <td>Requer informações ao Excelentíssimo Senhor Mi...</td>\n",
       "      <td>NaN</td>\n",
       "      <td>NaN</td>\n",
       "      <td>...</td>\n",
       "      <td>2185227</td>\n",
       "      <td>https://dadosabertos.camara.leg.br/api/v2/prop...</td>\n",
       "      <td>537480.0</td>\n",
       "      <td>https://dadosabertos.camara.leg.br/api/v2/orga...</td>\n",
       "      <td>2</td>\n",
       "      <td>COMISSÃO PERMANENTE</td>\n",
       "      <td>Comissão de Defesa dos Direitos das Pessoas co...</td>\n",
       "      <td>NaN</td>\n",
       "      <td>NaN</td>\n",
       "      <td>NaN</td>\n",
       "    </tr>\n",
       "    <tr>\n",
       "      <th>3</th>\n",
       "      <td>2167559</td>\n",
       "      <td>https://dadosabertos.camara.leg.br/api/v2/prop...</td>\n",
       "      <td>MPV</td>\n",
       "      <td>818</td>\n",
       "      <td>2018</td>\n",
       "      <td>291</td>\n",
       "      <td>Medida Provisória</td>\n",
       "      <td>Altera a Lei nº 13.089, de 12 de janeiro de 20...</td>\n",
       "      <td>NaN</td>\n",
       "      <td>Alteração, Estatuto da Metrópole, critério, au...</td>\n",
       "      <td>...</td>\n",
       "      <td>2185226</td>\n",
       "      <td>https://dadosabertos.camara.leg.br/api/v2/prop...</td>\n",
       "      <td>160565.0</td>\n",
       "      <td>https://dadosabertos.camara.leg.br/api/v2/depu...</td>\n",
       "      <td>10000</td>\n",
       "      <td>Deputado</td>\n",
       "      <td>Mara Gabrilli</td>\n",
       "      <td>PSDB</td>\n",
       "      <td>https://dadosabertos.camara.leg.br/api/v2/part...</td>\n",
       "      <td>SP</td>\n",
       "    </tr>\n",
       "    <tr>\n",
       "      <th>4</th>\n",
       "      <td>2167562</td>\n",
       "      <td>https://dadosabertos.camara.leg.br/api/v2/prop...</td>\n",
       "      <td>MSC</td>\n",
       "      <td>37</td>\n",
       "      <td>2018</td>\n",
       "      <td>412</td>\n",
       "      <td>Mensagem de Restituição de Autógrafos</td>\n",
       "      <td>Comunica o Excelentíssimo Senhor Presidente da...</td>\n",
       "      <td>NaN</td>\n",
       "      <td>NaN</td>\n",
       "      <td>...</td>\n",
       "      <td>2185225</td>\n",
       "      <td>https://dadosabertos.camara.leg.br/api/v2/prop...</td>\n",
       "      <td>160565.0</td>\n",
       "      <td>https://dadosabertos.camara.leg.br/api/v2/depu...</td>\n",
       "      <td>10000</td>\n",
       "      <td>Deputado</td>\n",
       "      <td>Mara Gabrilli</td>\n",
       "      <td>PSDB</td>\n",
       "      <td>https://dadosabertos.camara.leg.br/api/v2/part...</td>\n",
       "      <td>SP</td>\n",
       "    </tr>\n",
       "  </tbody>\n",
       "</table>\n",
       "<p>5 rows × 40 columns</p>\n",
       "</div>"
      ],
      "text/plain": [
       "        id                                                uri siglaTipo  \\\n",
       "0  2167556  https://dadosabertos.camara.leg.br/api/v2/prop...       MPV   \n",
       "1  2167557  https://dadosabertos.camara.leg.br/api/v2/prop...       MSC   \n",
       "2  2167558  https://dadosabertos.camara.leg.br/api/v2/prop...       RIC   \n",
       "3  2167559  https://dadosabertos.camara.leg.br/api/v2/prop...       MPV   \n",
       "4  2167562  https://dadosabertos.camara.leg.br/api/v2/prop...       MSC   \n",
       "\n",
       "   numero   ano  idTipo                          descricaoTipo  \\\n",
       "0     817  2018     291                      Medida Provisória   \n",
       "1       5  2018     412  Mensagem de Restituição de Autógrafos   \n",
       "2    3355  2018     148             Requerimento de Informação   \n",
       "3     818  2018     291                      Medida Provisória   \n",
       "4      37  2018     412  Mensagem de Restituição de Autógrafos   \n",
       "\n",
       "                                              ementa  \\\n",
       "0  Disciplina o disposto nas Emendas Constitucion...   \n",
       "1  Comunica o Excelentíssimo Senhor Presidente da...   \n",
       "2  Requer informações ao Excelentíssimo Senhor Mi...   \n",
       "3  Altera a Lei nº 13.089, de 12 de janeiro de 20...   \n",
       "4  Comunica o Excelentíssimo Senhor Presidente da...   \n",
       "\n",
       "                                     ementaDetalhada  \\\n",
       "0  Revoga dispositivos da Lei nº 12.249, de 2010....   \n",
       "1                                                NaN   \n",
       "2                                                NaN   \n",
       "3                                                NaN   \n",
       "4                                                NaN   \n",
       "\n",
       "                                            keywords     ...       \\\n",
       "0  Regulamentação, Emenda constitucional, transpo...     ...        \n",
       "1                                                NaN     ...        \n",
       "2                                                NaN     ...        \n",
       "3  Alteração, Estatuto da Metrópole, critério, au...     ...        \n",
       "4                                                NaN     ...        \n",
       "\n",
       "  idProposicao                                      uriProposicao   idAutor  \\\n",
       "0      2185235  https://dadosabertos.camara.leg.br/api/v2/prop...   74283.0   \n",
       "1      2185229  https://dadosabertos.camara.leg.br/api/v2/prop...  160632.0   \n",
       "2      2185227  https://dadosabertos.camara.leg.br/api/v2/prop...  537480.0   \n",
       "3      2185226  https://dadosabertos.camara.leg.br/api/v2/prop...  160565.0   \n",
       "4      2185225  https://dadosabertos.camara.leg.br/api/v2/prop...  160565.0   \n",
       "\n",
       "                                            uriAutor codTipoAutor  \\\n",
       "0  https://dadosabertos.camara.leg.br/api/v2/depu...        10000   \n",
       "1  https://dadosabertos.camara.leg.br/api/v2/depu...        10000   \n",
       "2  https://dadosabertos.camara.leg.br/api/v2/orga...            2   \n",
       "3  https://dadosabertos.camara.leg.br/api/v2/depu...        10000   \n",
       "4  https://dadosabertos.camara.leg.br/api/v2/depu...        10000   \n",
       "\n",
       "             tipoAutor                                          nomeAutor  \\\n",
       "0             Deputado                                         Vicentinho   \n",
       "1             Deputado                                           Zé Silva   \n",
       "2  COMISSÃO PERMANENTE  Comissão de Defesa dos Direitos das Pessoas co...   \n",
       "3             Deputado                                      Mara Gabrilli   \n",
       "4             Deputado                                      Mara Gabrilli   \n",
       "\n",
       "  siglaPartidoAutor                                    uriPartidoAutor  \\\n",
       "0                PT  https://dadosabertos.camara.leg.br/api/v2/part...   \n",
       "1                SD  https://dadosabertos.camara.leg.br/api/v2/part...   \n",
       "2               NaN                                                NaN   \n",
       "3              PSDB  https://dadosabertos.camara.leg.br/api/v2/part...   \n",
       "4              PSDB  https://dadosabertos.camara.leg.br/api/v2/part...   \n",
       "\n",
       "  siglaUFAutor  \n",
       "0           SP  \n",
       "1           MG  \n",
       "2          NaN  \n",
       "3           SP  \n",
       "4           SP  \n",
       "\n",
       "[5 rows x 40 columns]"
      ]
     },
     "execution_count": 215,
     "metadata": {},
     "output_type": "execute_result"
    }
   ],
   "source": [
    "dici[2018].head()"
   ]
  },
  {
   "cell_type": "markdown",
   "metadata": {},
   "source": [
    "As colunas relevantes para a análise foram selecionadas de modo a excluir colunas que não acrescentavam nada à análise. Após isso, os dados foram separados em dois dataframes: Um com os arquivados e outro com os aprovados."
   ]
  },
  {
   "cell_type": "code",
   "execution_count": 216,
   "metadata": {
    "scrolled": true
   },
   "outputs": [],
   "source": [
    "\n",
    "\n",
    "#cria dois dataframes genéricos vazios\n",
    "norma_df=pd.DataFrame({\"\":[]})\n",
    "arqui_df=pd.DataFrame({\"\":[]})\n",
    "\n",
    "#para cada ano, separar o dataframe original em dois, um com os arquivados e o outro com os aprovados\n",
    "for y in dici:\n",
    "    data=dici[y]\n",
    "    #pegar apenas colunas relevantes para a análise\n",
    "    rel_data=data.iloc[:,[2,4,7,8,9,23,24,26,28,35,36,37,39]]\n",
    "    \n",
    "    #pega apenas projetos de lei feitos por deputados\n",
    "    new_data=rel_data[(\n",
    "                        (rel_data.siglaTipo==\"PL\")\\\n",
    "                       &(rel_data.tipoAutor==\"Deputado\")\\\n",
    "    )]\n",
    "    \n",
    "    columns_not_nan=['ano','ementa','tipoAutor','siglaPartidoAutor']\n",
    "    #separar os projetos de lei em dois dataframes: Transformados em Norma Jurídica e Arquivados\n",
    "    norma=new_data[new_data.ultimoStatus_descricaoSituacao==\"Transformado em Norma Jurídica\"]\n",
    "    arqui=new_data[new_data.ultimoStatus_descricaoSituacao==\"Arquivada\"]\n",
    "    \n",
    "    #Junta todos os dataframes Arquivados em apenas um. O mesmo para os Aprovados\n",
    "    if not norma_df.empty:\n",
    "        norma_df=norma_df.append(norma)\n",
    "        arqui_df=arqui_df.append(arqui)\n",
    "    else:\n",
    "        norma_df=norma\n",
    "        arqui_df=arqui"
   ]
  },
  {
   "cell_type": "markdown",
   "metadata": {},
   "source": [
    "Devemos, antes de continuar a análise, ver o tamanho de ambos os dataframes, pois pode eviesar o classificador para o dataframe que possui o mair numero de dados."
   ]
  },
  {
   "cell_type": "code",
   "execution_count": 199,
   "metadata": {},
   "outputs": [
    {
     "name": "stdout",
     "output_type": "stream",
     "text": [
      "Transformado em Norma Jurídica: 1378 \n",
      "Arquivada: 14373\n"
     ]
    }
   ],
   "source": [
    "print(\"Transformado em Norma Jurídica: {0} \\nArquivada: {1}\" .format(len(norma_df), len(arqui_df)))"
   ]
  },
  {
   "cell_type": "markdown",
   "metadata": {},
   "source": [
    "Definimos uma seed que manterá os resultados de funções de resultados pseudo-aleatórios"
   ]
  },
  {
   "cell_type": "code",
   "execution_count": 1,
   "metadata": {},
   "outputs": [],
   "source": [
    "seed=86422"
   ]
  },
  {
   "cell_type": "markdown",
   "metadata": {},
   "source": [
    "Assim, para melhorar a qualidade da Análise de dados, o tamanho dos Dataframe foi igualado:"
   ]
  },
  {
   "cell_type": "code",
   "execution_count": 200,
   "metadata": {},
   "outputs": [
    {
     "name": "stdout",
     "output_type": "stream",
     "text": [
      "Transformado em Norma Jurídica: 1378 \n",
      "Arquivada: 1378\n"
     ]
    }
   ],
   "source": [
    "#pegar apenas o mesmo número de linhas do df de normas\n",
    "arqui_random = arqui_df.sample(frac=(len(norma_df)/len(arqui_df)), random_state=seed)\n",
    "\n",
    "print(\"Transformado em Norma Jurídica: {0} \\nArquivada: {1}\" .format(len(norma_df), len(arqui_random)))"
   ]
  },
  {
   "cell_type": "markdown",
   "metadata": {},
   "source": [
    "Com nosso dados do mesmo tamanho, podemos juntar ambos DataFrames em um e embaralhá-lo: "
   ]
  },
  {
   "cell_type": "code",
   "execution_count": 217,
   "metadata": {},
   "outputs": [
    {
     "data": {
      "text/html": [
       "<div>\n",
       "<style scoped>\n",
       "    .dataframe tbody tr th:only-of-type {\n",
       "        vertical-align: middle;\n",
       "    }\n",
       "\n",
       "    .dataframe tbody tr th {\n",
       "        vertical-align: top;\n",
       "    }\n",
       "\n",
       "    .dataframe thead th {\n",
       "        text-align: right;\n",
       "    }\n",
       "</style>\n",
       "<table border=\"1\" class=\"dataframe\">\n",
       "  <thead>\n",
       "    <tr style=\"text-align: right;\">\n",
       "      <th></th>\n",
       "      <th>siglaTipo</th>\n",
       "      <th>ano</th>\n",
       "      <th>ementa</th>\n",
       "      <th>ementaDetalhada</th>\n",
       "      <th>keywords</th>\n",
       "      <th>ultimoStatus_regime</th>\n",
       "      <th>ultimoStatus_descricaoTramitacao</th>\n",
       "      <th>ultimoStatus_descricaoSituacao</th>\n",
       "      <th>ultimoStatus_despacho</th>\n",
       "      <th>tipoAutor</th>\n",
       "      <th>nomeAutor</th>\n",
       "      <th>siglaPartidoAutor</th>\n",
       "      <th>siglaUFAutor</th>\n",
       "    </tr>\n",
       "  </thead>\n",
       "  <tbody>\n",
       "    <tr>\n",
       "      <th>927</th>\n",
       "      <td>PL</td>\n",
       "      <td>2001</td>\n",
       "      <td>Cria a obrigatoriedade de prestação de garanti...</td>\n",
       "      <td>NaN</td>\n",
       "      <td>Obrigatoriedade, revendedor, compra, venda, ve...</td>\n",
       "      <td>Ordinária (Art. 151, III, RICD)</td>\n",
       "      <td>Notificações</td>\n",
       "      <td>Arquivada</td>\n",
       "      <td>Memorando nº 51/08- COPER, ao Diretor da Coord...</td>\n",
       "      <td>Deputado</td>\n",
       "      <td>Werner Wanderer</td>\n",
       "      <td>PFL</td>\n",
       "      <td>PR</td>\n",
       "    </tr>\n",
       "    <tr>\n",
       "      <th>5605</th>\n",
       "      <td>PL</td>\n",
       "      <td>2004</td>\n",
       "      <td>Limita a utilização de procurações a habilitar...</td>\n",
       "      <td>Altera a Lei nº 10.406, de 2002.</td>\n",
       "      <td>Alteração, Código  Civil, limitação, utilizaçã...</td>\n",
       "      <td>Ordinária (Art. 151, III, RICD)</td>\n",
       "      <td>Notificações</td>\n",
       "      <td>Arquivada</td>\n",
       "      <td>Ao Arquivo - Memorando nº 32/08 - COPER</td>\n",
       "      <td>Deputado</td>\n",
       "      <td>Manato</td>\n",
       "      <td>PDT</td>\n",
       "      <td>ES</td>\n",
       "    </tr>\n",
       "    <tr>\n",
       "      <th>10905</th>\n",
       "      <td>PL</td>\n",
       "      <td>2007</td>\n",
       "      <td>Institui definição de crime de Governador de E...</td>\n",
       "      <td>Altera a Lei nº 8.137, de 1990.</td>\n",
       "      <td>Alteração, Lei de Crimes contra a Ordem Tribut...</td>\n",
       "      <td>Ordinária (Art. 151, III, RICD)</td>\n",
       "      <td>Arquivamento</td>\n",
       "      <td>Arquivada</td>\n",
       "      <td>Arquivado nos termos do Artigo 105 do Regiment...</td>\n",
       "      <td>Deputado</td>\n",
       "      <td>Cândido Vaccarezza</td>\n",
       "      <td>PT</td>\n",
       "      <td>SP</td>\n",
       "    </tr>\n",
       "    <tr>\n",
       "      <th>1202</th>\n",
       "      <td>PL</td>\n",
       "      <td>2016</td>\n",
       "      <td>Institui o Dia Nacional do Exportador</td>\n",
       "      <td>NaN</td>\n",
       "      <td>Criação, Dia Nacional do Exportador, comemoraç...</td>\n",
       "      <td>Ordinária (Art. 151, III, RICD)</td>\n",
       "      <td>Recebimento de autógrafos</td>\n",
       "      <td>Transformado em Norma Jurídica</td>\n",
       "      <td>Recebimento do Ofício nº 113/2018 (SF) encamin...</td>\n",
       "      <td>Deputado</td>\n",
       "      <td>Mara Gabrilli</td>\n",
       "      <td>PSDB</td>\n",
       "      <td>SP</td>\n",
       "    </tr>\n",
       "    <tr>\n",
       "      <th>12663</th>\n",
       "      <td>PL</td>\n",
       "      <td>2006</td>\n",
       "      <td>Institui o dia 18 de agosto como o \"Dia Nacion...</td>\n",
       "      <td>NaN</td>\n",
       "      <td>Criação, Dia Nacional do Campo Lindo, comemora...</td>\n",
       "      <td>Prioridade (Art. 151, II, RICD)</td>\n",
       "      <td>Remessa ao Senado Federal</td>\n",
       "      <td>Transformado em Norma Jurídica</td>\n",
       "      <td>Ofício nº 125/08/PS-GSE ao Senado Federal comu...</td>\n",
       "      <td>Deputado</td>\n",
       "      <td>Carlos Abicalil</td>\n",
       "      <td>PT</td>\n",
       "      <td>MT</td>\n",
       "    </tr>\n",
       "  </tbody>\n",
       "</table>\n",
       "</div>"
      ],
      "text/plain": [
       "      siglaTipo   ano                                             ementa  \\\n",
       "927          PL  2001  Cria a obrigatoriedade de prestação de garanti...   \n",
       "5605         PL  2004  Limita a utilização de procurações a habilitar...   \n",
       "10905        PL  2007  Institui definição de crime de Governador de E...   \n",
       "1202         PL  2016              Institui o Dia Nacional do Exportador   \n",
       "12663        PL  2006  Institui o dia 18 de agosto como o \"Dia Nacion...   \n",
       "\n",
       "                        ementaDetalhada  \\\n",
       "927                                 NaN   \n",
       "5605   Altera a Lei nº 10.406, de 2002.   \n",
       "10905   Altera a Lei nº 8.137, de 1990.   \n",
       "1202                                NaN   \n",
       "12663                               NaN   \n",
       "\n",
       "                                                keywords  \\\n",
       "927    Obrigatoriedade, revendedor, compra, venda, ve...   \n",
       "5605   Alteração, Código  Civil, limitação, utilizaçã...   \n",
       "10905  Alteração, Lei de Crimes contra a Ordem Tribut...   \n",
       "1202   Criação, Dia Nacional do Exportador, comemoraç...   \n",
       "12663  Criação, Dia Nacional do Campo Lindo, comemora...   \n",
       "\n",
       "                   ultimoStatus_regime ultimoStatus_descricaoTramitacao  \\\n",
       "927    Ordinária (Art. 151, III, RICD)                     Notificações   \n",
       "5605   Ordinária (Art. 151, III, RICD)                     Notificações   \n",
       "10905  Ordinária (Art. 151, III, RICD)                     Arquivamento   \n",
       "1202   Ordinária (Art. 151, III, RICD)        Recebimento de autógrafos   \n",
       "12663  Prioridade (Art. 151, II, RICD)        Remessa ao Senado Federal   \n",
       "\n",
       "       ultimoStatus_descricaoSituacao  \\\n",
       "927                         Arquivada   \n",
       "5605                        Arquivada   \n",
       "10905                       Arquivada   \n",
       "1202   Transformado em Norma Jurídica   \n",
       "12663  Transformado em Norma Jurídica   \n",
       "\n",
       "                                   ultimoStatus_despacho tipoAutor  \\\n",
       "927    Memorando nº 51/08- COPER, ao Diretor da Coord...  Deputado   \n",
       "5605             Ao Arquivo - Memorando nº 32/08 - COPER  Deputado   \n",
       "10905  Arquivado nos termos do Artigo 105 do Regiment...  Deputado   \n",
       "1202   Recebimento do Ofício nº 113/2018 (SF) encamin...  Deputado   \n",
       "12663  Ofício nº 125/08/PS-GSE ao Senado Federal comu...  Deputado   \n",
       "\n",
       "                nomeAutor siglaPartidoAutor siglaUFAutor  \n",
       "927       Werner Wanderer               PFL           PR  \n",
       "5605               Manato               PDT           ES  \n",
       "10905  Cândido Vaccarezza                PT           SP  \n",
       "1202        Mara Gabrilli              PSDB           SP  \n",
       "12663     Carlos Abicalil                PT           MT  "
      ]
     },
     "execution_count": 217,
     "metadata": {},
     "output_type": "execute_result"
    }
   ],
   "source": [
    "#junta os dataframes dos aprovados e reprovados de mesmo tamanho, e também randomiza eles\n",
    "data=(norma_df.append(arqui_random)).sample(frac=1, random_state=seed)\n",
    "data.head()"
   ]
  },
  {
   "cell_type": "markdown",
   "metadata": {},
   "source": [
    "Para começar a análise, separamos o DataFrame em dois conjuntos: um de teste e um de treinamento"
   ]
  },
  {
   "cell_type": "code",
   "execution_count": 218,
   "metadata": {
    "scrolled": true
   },
   "outputs": [],
   "source": [
    "#separa o dataframe conjunto na análise de teste e de treinamento\n",
    "\n",
    "from sklearn.cross_validation import train_test_split\n",
    "\n",
    "X_train,X_test,y_train,y_test = train_test_split(data.ementa,data.ultimoStatus_descricaoSituacao,test_size=0.2, random_state=seed)\n"
   ]
  },
  {
   "cell_type": "markdown",
   "metadata": {},
   "source": [
    "A partir disso, começamos a análise a partir da criação de vários modelos de análise:"
   ]
  },
  {
   "cell_type": "code",
   "execution_count": 74,
   "metadata": {},
   "outputs": [],
   "source": [
    "# Importações\n",
    "\n",
    "from sklearn.feature_extraction.text import CountVectorizer as CV\n",
    "\n",
    "from sklearn.naive_bayes import MultinomialNB as MC\n",
    "from sklearn.tree import DecisionTreeClassifier as DC\n",
    "from sklearn.ensemble import RandomForestClassifier as RC\n",
    "from sklearn.ensemble import AdaBoostClassifier as AC\n",
    "from sklearn.ensemble import VotingClassifier as VC\n",
    "\n",
    "from sklearn.metrics import accuracy_score\n",
    "\n",
    "from sklearn.pipeline import Pipeline"
   ]
  },
  {
   "cell_type": "markdown",
   "metadata": {},
   "source": [
    "Nesse primeiro modelo, foi usado CountVectorizer com MultinomialNB:"
   ]
  },
  {
   "cell_type": "code",
   "execution_count": 75,
   "metadata": {},
   "outputs": [
    {
     "name": "stdout",
     "output_type": "stream",
     "text": [
      "Acurácia: 0.7380952380952381\n"
     ]
    }
   ],
   "source": [
    "# Cria modelo.\n",
    "model_1 = Pipeline([\n",
    "    (\"vectorizer\", CV()),\n",
    "    (\"classifier\", MC())\n",
    "])\n",
    "\n",
    "# Treina modelo.\n",
    "model_1.fit(X_train, y_train)\n",
    "\n",
    "# Testa modelo.\n",
    "y_pred_1 = model_1.predict(X_test)\n",
    "\n",
    "# Calcula acurácia.\n",
    "acc_1 = accuracy_score(y_test, y_pred_1)\n",
    "\n",
    "print(\"Acurácia: {}\".format(acc_1))"
   ]
  },
  {
   "cell_type": "markdown",
   "metadata": {},
   "source": [
    "No segundo modelo, foi usado CountVectorizer com DecisionTreeClassifier:"
   ]
  },
  {
   "cell_type": "code",
   "execution_count": 76,
   "metadata": {},
   "outputs": [
    {
     "name": "stdout",
     "output_type": "stream",
     "text": [
      "Acurácia: 0.7326007326007326\n"
     ]
    }
   ],
   "source": [
    "# Cria modelo.\n",
    "model_2 = Pipeline([\n",
    "    (\"vectorizer\", CV()),\n",
    "    (\"classifier\", DC(random_state = seed))\n",
    "])\n",
    "\n",
    "# Treina modelo.\n",
    "model_2.fit(X_train, y_train)\n",
    "\n",
    "# Testa modelo.\n",
    "y_pred = model_2.predict(X_test)\n",
    "\n",
    "# Calcula acurácia.\n",
    "acc_2 = accuracy_score(y_test, y_pred)\n",
    "\n",
    "print(\"Acurácia: {}\".format(acc_2))"
   ]
  },
  {
   "cell_type": "markdown",
   "metadata": {},
   "source": [
    "No terceiro modelo, foi usado CountVectorizer com RandomForestClassifier:"
   ]
  },
  {
   "cell_type": "code",
   "execution_count": 77,
   "metadata": {},
   "outputs": [
    {
     "name": "stdout",
     "output_type": "stream",
     "text": [
      "Acurácia: 0.7637362637362637\n"
     ]
    }
   ],
   "source": [
    "# Cria modelo.\n",
    "\n",
    "model_3 = Pipeline([\n",
    "    (\"vectorizer\", CV()),\n",
    "    (\"classifier\", RC(random_state =seed))\n",
    "])\n",
    "\n",
    "# Treina modelo.\n",
    "model_3.fit(X_train.values, y_train.values)\n",
    "\n",
    "# Testa modelo.\n",
    "y_pred = model_3.predict(X_test)\n",
    "\n",
    "# Calcula acurácia.\n",
    "acc_3 = accuracy_score(y_test, y_pred)\n",
    "\n",
    "print(\"Acurácia: {}\".format(acc_3))"
   ]
  },
  {
   "cell_type": "markdown",
   "metadata": {},
   "source": [
    "No quarto modelo, foi usado CountVectorizer com AdaBoostClassifier:"
   ]
  },
  {
   "cell_type": "code",
   "execution_count": 78,
   "metadata": {},
   "outputs": [
    {
     "name": "stdout",
     "output_type": "stream",
     "text": [
      "Acurácia: 0.7417582417582418\n"
     ]
    }
   ],
   "source": [
    "# Cria modelo.\n",
    "\n",
    "model_4 = Pipeline([\n",
    "    (\"vectorizer\", CV()),\n",
    "    (\"classifier\", AC())\n",
    "])\n",
    "\n",
    "# Treina modelo.\n",
    "model_4.fit(X_train.values, y_train.values)\n",
    "\n",
    "# Testa modelo.\n",
    "y_pred = model_4.predict(X_test)\n",
    "\n",
    "# Calcula acurácia.\n",
    "acc_4 = accuracy_score(y_test, y_pred)\n",
    "\n",
    "print(\"Acurácia: {}\".format(acc_4))"
   ]
  },
  {
   "cell_type": "markdown",
   "metadata": {},
   "source": [
    "E, por fim, foi usado o VotingClassifier:"
   ]
  },
  {
   "cell_type": "code",
   "execution_count": 214,
   "metadata": {},
   "outputs": [
    {
     "name": "stdout",
     "output_type": "stream",
     "text": [
      "Acurácia: 0.76007326007326\n"
     ]
    },
    {
     "name": "stderr",
     "output_type": "stream",
     "text": [
      "C:\\Users\\rodri\\Anaconda3\\lib\\site-packages\\sklearn\\preprocessing\\label.py:151: DeprecationWarning: The truth value of an empty array is ambiguous. Returning False, but in future this will result in an error. Use `array.size > 0` to check that an array is not empty.\n",
      "  if diff:\n"
     ]
    }
   ],
   "source": [
    "eclf = VC(estimators=[('CV_MC', model_1),\n",
    "                      ('CV_DC', model_2),\n",
    "                      ('CV_RC', model_3),\n",
    "                      ('CV_AC', model_4),\n",
    "                     ], voting='soft',weights=[2,1,1,3])\n",
    "\n",
    "eclf.fit(X_train, y_train)\n",
    "\n",
    "\n",
    "# Testa modelo.\n",
    "y_pred = eclf.predict(X_test)\n",
    "\n",
    "# Calcula acurácia.\n",
    "acc_4 = accuracy_score(y_test, y_pred)\n",
    "\n",
    "print(\"Acurácia: {}\".format(acc_4))"
   ]
  },
  {
   "cell_type": "code",
   "execution_count": 84,
   "metadata": {},
   "outputs": [
    {
     "name": "stdout",
     "output_type": "stream",
     "text": [
      "['Transformado em Norma Jurídica']\n"
     ]
    },
    {
     "name": "stderr",
     "output_type": "stream",
     "text": [
      "C:\\Users\\rodri\\Anaconda3\\lib\\site-packages\\sklearn\\preprocessing\\label.py:151: DeprecationWarning: The truth value of an empty array is ambiguous. Returning False, but in future this will result in an error. Use `array.size > 0` to check that an array is not empty.\n",
      "  if diff:\n"
     ]
    }
   ],
   "source": [
    "print(eclf.predict(['acabar com a constituição federal segundo a constituição federal lei 2938']))"
   ]
  }
 ],
 "metadata": {
  "kernelspec": {
   "display_name": "Python 3",
   "language": "python",
   "name": "python3"
  }
 },
 "nbformat": 4,
 "nbformat_minor": 2
}
